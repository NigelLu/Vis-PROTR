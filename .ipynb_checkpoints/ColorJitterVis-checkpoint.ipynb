{
 "cells": [
  {
   "cell_type": "code",
   "execution_count": 2,
   "metadata": {
    "colab": {
     "base_uri": "https://localhost:8080/",
     "height": 37
    },
    "id": "exuQGNbB-3uV",
    "outputId": "19c60fc6-c286-4bd3-dda3-441160eb3f82"
   },
   "outputs": [
    {
     "data": {
      "text/plain": [
       "'/Users/nigel/Documents/Research-Git/Few_Shot_Seg_CWT'"
      ]
     },
     "execution_count": 2,
     "metadata": {},
     "output_type": "execute_result"
    }
   ],
   "source": [
    "import os\n",
    "\n",
    "os.chdir('../Few_Shot_Seg_CWT')\n",
    "os.getcwd()"
   ]
  },
  {
   "cell_type": "markdown",
   "metadata": {
    "id": "QtdjD1ge-oxz"
   },
   "source": [
    "# Dataset.py"
   ]
  },
  {
   "cell_type": "markdown",
   "metadata": {
    "id": "y8NRtTBJ_tI7"
   },
   "source": [
    "*Import Packages*"
   ]
  },
  {
   "cell_type": "code",
   "execution_count": 3,
   "metadata": {
    "id": "HbEmUoR6-PB3"
   },
   "outputs": [],
   "source": [
    "import cv2\n",
    "import torch\n",
    "import random\n",
    "import argparse\n",
    "import numpy as np\n",
    "from typing import List\n",
    "from torch.utils.data import Dataset\n",
    "from torchvision import transforms as T\n",
    "from torch.utils.data.distributed import DistributedSampler\n",
    "\n",
    "import src.dataset.transform as transform\n",
    "from src.dataset.utils import make_dataset\n",
    "from src.dataset.classes import get_split_classes, filter_classes"
   ]
  },
  {
   "cell_type": "markdown",
   "metadata": {
    "id": "Vh3JJJOtZj4M"
   },
   "source": [
    "### StandardData"
   ]
  },
  {
   "cell_type": "code",
   "execution_count": 4,
   "metadata": {
    "id": "7zH66wIEAUSD"
   },
   "outputs": [],
   "source": [
    "class StandardData(Dataset):\n",
    "  def __init__(self, args: argparse.Namespace,\n",
    "               transform: transform.Compose,\n",
    "               data_list_path: str,\n",
    "               class_list: List[int],\n",
    "               return_paths: bool):\n",
    "    self.data_root = args.data_root                                              # path to dataset directory\n",
    "    self.class_list = class_list                                                 # dict of containing two dicts (pascal & coco), mapping the classes that corresponds to different dataset splits\n",
    "    self.data_list, _ = make_dataset(args.data_root, data_list_path, class_list) # return a tuple with: 1, a List of all (image_path, label_path) Tuples; 2, a Dict mapping (image_path, label_path) Tuples for different classes\n",
    "    self.transform = transform                                                   # Composed transformation for dataset\n",
    "    self.return_paths = return_paths                                             # whether to return image&label path in __getitem__\n",
    "\n",
    "    def __len__(self):\n",
    "        return len(self.data_list)\n",
    "\n",
    "    def __getitem__(self, index):\n",
    "\n",
    "      # read image and labels\n",
    "      image_path, label_path = self.data_list[index]\n",
    "      image = cv2.imread(image_path, cv2.IMREAD_COLOR)\n",
    "      image = cv2.cvtColor(image, cv2.COLOR_BGR2RGB)\n",
    "      image = np.float32(image)\n",
    "      label = cv2.imread(label_path, cv2.IMREAD_GRAYSCALE)\n",
    "\n",
    "      # double check to make sure the shape matches\n",
    "      if image.shape[0] != label.shape[0] or image.shape[1] != label.shape[1]:\n",
    "        raise (RuntimeError(\"Query Image & label shape mismatch: \" + image_path + \" \" + label_path + \"\\n\"))\n",
    "\n",
    "      # remove unwanted label classes\n",
    "      label_class = np.unique(label).tolist()\n",
    "      if 0 in label_class:\n",
    "        label_class.remove(0)\n",
    "      if 255 in label_class:\n",
    "        label_class.remove(255)\n",
    "\n",
    "      new_label_class = []\n",
    "      undesired_class = []\n",
    "      for c in label_class:\n",
    "        if c in self.class_list:\n",
    "          new_label_class.append(c)\n",
    "        else:\n",
    "          undesired_class.append(c)\n",
    "      label_class = new_label_class\n",
    "      assert len(label_class) > 0\n",
    "\n",
    "      new_label = np.zeros_like(label)                                           # background\n",
    "      for lab in label_class:\n",
    "        indexes = np.where(label == lab)\n",
    "        new_label[indexes[0], indexes[1]] = self.class_list.index(lab) + 1       # Add 1 because class 0 is for bg\n",
    "      for lab in undesired_class:\n",
    "        indexes = np.where(label == lab)\n",
    "        new_label[indexes[0], indexes[1]] = 255\n",
    "\n",
    "      if self.transform is not None:\n",
    "        image, new_label = self.transform(image, new_label)\n",
    "      if self.return_paths:\n",
    "        return image, new_label, image_path, label_path\n",
    "      else:\n",
    "        return image, new_label"
   ]
  },
  {
   "cell_type": "markdown",
   "metadata": {
    "id": "Jcz3sO5FZnsa"
   },
   "source": [
    "### EpisodicData"
   ]
  },
  {
   "cell_type": "code",
   "execution_count": 59,
   "metadata": {
    "id": "u7h5fglrM2YX"
   },
   "outputs": [],
   "source": [
    "class EpisodicData(Dataset):\n",
    "  def __init__(self,\n",
    "                mode_train: bool,\n",
    "                dt_transform: transform.Compose,\n",
    "                class_list: List[int],\n",
    "                args: argparse.Namespace):\n",
    "\n",
    "    self.shot = args.shot\n",
    "    self.padding = [v*255 for v in args.mean] if args.get('padding')=='avg' else None\n",
    "    self.meta_aug = args.get('meta_aug', 0)\n",
    "    self.aug_th = args.get('aug_th', [0.15, 0.30])\n",
    "    self.aug_type = args.get('aug_type', 0)\n",
    "    self.args = args\n",
    "\n",
    "    self.random_shot = args.random_shot\n",
    "    self.data_root = args.data_root\n",
    "    self.class_list = class_list\n",
    "    if mode_train:    # args.train_list： txt file 存储 pascal 中所有train_split的file\n",
    "        self.data_list, self.sub_class_file_list = make_dataset(args.data_root, args.train_list, self.class_list)\n",
    "    else:\n",
    "        self.data_list, self.sub_class_file_list = make_dataset(args.data_root, args.val_list, self.class_list)\n",
    "    self.transform = dt_transform\n",
    "\n",
    "    print(f\"Augmenting data using the following setting {args.get('brightness', 0)}{args.get('contrast', 0)}{args.get('saturation', 0)}{args.get('hue', 0)}\")\n",
    "\n",
    "  def __len__(self):\n",
    "    return len(self.data_list)\n",
    "\n",
    "  def __getitem__(self, index):\n",
    "\n",
    "    # ====== Read query image + Chose class ======\n",
    "    image_path, label_path = self.data_list[index]\n",
    "    image = cv2.imread(image_path, cv2.IMREAD_COLOR)\n",
    "    image = cv2.cvtColor(image, cv2.COLOR_BGR2RGB)\n",
    "    image = np.float32(image)\n",
    "    label = cv2.imread(label_path, cv2.IMREAD_GRAYSCALE)\n",
    "\n",
    "    if image.shape[0] != label.shape[0] or image.shape[1] != label.shape[1]:\n",
    "        raise (RuntimeError(\"Query Image & label shape mismatch: \" + image_path + \" \" + label_path + \"\\n\"))\n",
    "    label_class = np.unique(label).tolist()\n",
    "    if 0 in label_class:\n",
    "        label_class.remove(0)\n",
    "    if 255 in label_class:\n",
    "        label_class.remove(255)\n",
    "    new_label_class = []\n",
    "    for c in label_class:\n",
    "        if c in self.class_list:                                                 # current list of classes to try\n",
    "            new_label_class.append(c)\n",
    "    label_class = new_label_class\n",
    "    assert len(label_class) > 0                                                  # 只选取 满足 train/test split的class\n",
    "\n",
    "    # ====== From classes in query image, chose one randomly ======\n",
    "    class_chosen = np.random.choice(label_class)\n",
    "    new_label = np.zeros_like(label)\n",
    "    ignore_pix = np.where(label == 255)\n",
    "    target_pix = np.where(label == class_chosen)\n",
    "    new_label[ignore_pix] = 255\n",
    "    new_label[target_pix] = 1\n",
    "    label = new_label\n",
    "\n",
    "    file_class_chosen = self.sub_class_file_list[class_chosen]                   # 当前split 选取的class, 所对应的image/label path\n",
    "    num_file = len(file_class_chosen)\n",
    "\n",
    "    # ====== Build support ======\n",
    "    # First, randomly choose indexes of support images\n",
    "    support_image_path_list = []\n",
    "    support_label_path_list = []\n",
    "    support_idx_list = []\n",
    "\n",
    "    if self.random_shot:\n",
    "        shot = random.randint(1, self.shot)\n",
    "    else:\n",
    "        shot = self.shot\n",
    "\n",
    "    for k in range(shot):\n",
    "      support_idx = random.randint(1, num_file) - 1\n",
    "      support_image_path = image_path\n",
    "      support_label_path = label_path\n",
    "      while(\n",
    "          (support_image_path == image_path and support_label_path == label_path)\n",
    "          or \n",
    "          (support_idx in support_idx_list)\n",
    "          ):                                                                     # 排除 query img 并确保 support image(s) 没有重复\n",
    "        support_idx = random.randint(1, num_file) - 1\n",
    "        support_image_path, support_label_path = file_class_chosen[support_idx]\n",
    "      support_idx_list.append(support_idx)\n",
    "      support_image_path_list.append(support_image_path)\n",
    "      support_label_path_list.append(support_label_path)\n",
    "\n",
    "    support_image_list = []\n",
    "    support_label_list = []\n",
    "    subcls_list = [self.class_list.index(class_chosen) + 1]\n",
    "\n",
    "    # Second, read support images and masks\n",
    "    for k in range(shot):\n",
    "        support_image_path = support_image_path_list[k]\n",
    "        support_label_path = support_label_path_list[k]\n",
    "        support_image = cv2.imread(support_image_path, cv2.IMREAD_COLOR)\n",
    "        support_image = cv2.cvtColor(support_image, cv2.COLOR_BGR2RGB)\n",
    "        support_image = np.float32(support_image)\n",
    "        support_label = cv2.imread(support_label_path, cv2.IMREAD_GRAYSCALE)\n",
    "        target_pix = np.where(support_label == class_chosen)\n",
    "        ignore_pix = np.where(support_label == 255)\n",
    "        support_label[:, :] = 0\n",
    "        support_label[target_pix[0], target_pix[1]] = 1\n",
    "        support_label[ignore_pix[0], ignore_pix[1]] = 255\n",
    "        if support_image.shape[0] != support_label.shape[0] or support_image.shape[1] != support_label.shape[1]:\n",
    "            raise (\n",
    "                RuntimeError(\"Support Image & label shape mismatch: \"\n",
    "                              + support_image_path + \" \" + support_label_path + \"\\n\")\n",
    "            )\n",
    "        support_image_list.append(support_image)\n",
    "        support_label_list.append(support_label)\n",
    "    assert len(support_label_list) == shot and len(support_image_list) == shot\n",
    "\n",
    "    # Original support images and labels\n",
    "    support_images = support_image_list.copy()\n",
    "    support_labels = support_label_list.copy()\n",
    "\n",
    "    # ============== Forward images through transforms\n",
    "    if self.transform is not None:\n",
    "        qry_img, target = self.transform(image, label)    # transform query img\n",
    "        for k in range(shot):                             # transform support img\n",
    "            if self.meta_aug>1:\n",
    "                org_img, org_label = self.transform(support_image_list[k], support_label_list[k])  # flip and resize\n",
    "                label_freq = np.bincount(support_label_list[k].flatten())\n",
    "                fg_ratio = label_freq[1] / np.sum(label_freq)\n",
    "\n",
    "                if self.aug_type == 0:\n",
    "                    new_img, new_label = self.get_aug_data0(fg_ratio, support_image_list[k], support_label_list[k])\n",
    "                elif self.aug_type == 1:\n",
    "                    new_img, new_label = self.get_aug_data1(fg_ratio, support_image_list[k], support_label_list[k])\n",
    "                elif self.aug_type == 3:\n",
    "                    new_img, new_label = self.get_aug_data3(fg_ratio, support_image_list[k], support_label_list[k])\n",
    "                elif self.aug_type == 10:\n",
    "                    new_img, new_label = self.get_aug_data10(fg_ratio, support_image_list[k], support_label_list[k])\n",
    "                # aug with ColorJitter\n",
    "                elif self.aug_type == 4:\n",
    "                    new_img, new_label = self.get_aug_data4(fg_ratio, support_image_list[k], support_label_list[k], self.args)\n",
    "\n",
    "                if new_img is not None:\n",
    "                    support_image_list[k] = torch.cat([org_img.unsqueeze(0), new_img], dim=0)\n",
    "                    support_label_list[k] = torch.cat([org_label.unsqueeze(0), new_label], dim=0)\n",
    "                else:\n",
    "                    support_image_list[k], support_label_list[k] = org_img.unsqueeze(0), org_label.unsqueeze(0)\n",
    "\n",
    "            else:\n",
    "                support_image_list[k], support_label_list[k] = self.transform(support_image_list[k], support_label_list[k])\n",
    "                support_image_list[k] = support_image_list[k].unsqueeze(0)\n",
    "                support_label_list[k] = support_label_list[k].unsqueeze(0)\n",
    "    # Reshape properly\n",
    "    spprt_imgs = torch.cat(support_image_list, 0)\n",
    "    spprt_labels = torch.cat(support_label_list, 0)\n",
    "\n",
    "    return qry_img, target, spprt_imgs, spprt_labels, subcls_list, \\\n",
    "            [support_image_path_list, support_labels], [image_path, label]\n",
    "    # subcls_list  返回的是 选取的class在所有meta train cls list 中的index+1/\n",
    "    \n",
    "  def get_aug_data0(self, fg_ratio, support_image, support_label):\n",
    "    if fg_ratio <= self.aug_th[0]:\n",
    "      k = 2 if fg_ratio <= 0.03 else 3  # whether to crop at 1/2 or 1/3\n",
    "      meta_trans = transform.Compose([transform.FitCrop(k=k)] + self.transform.segtransform[-3:])\n",
    "    elif self.aug_th[0] < fg_ratio < self.aug_th[1]:\n",
    "      meta_trans = transform.Compose([transform.ColorJitter(cj_type='b')] + self.transform.segtransform[-3:])\n",
    "    else:\n",
    "      scale = 473 / max(support_label.shape) * 0.8\n",
    "      meta_trans = transform.Compose([transform.RandScale(scale=(scale, scale + 0.1), fixed_size=473, padding=self.padding)] +  self.transform.segtransform[-2:])\n",
    "    new_img, new_label = meta_trans(support_image, support_label)\n",
    "    return new_img.unsqueeze(0), new_label.unsqueeze(0)\n",
    "\n",
    "  def get_aug_data10(self, fg_ratio, support_image, support_label):   # only size augmentation, no color augmentation\n",
    "    if fg_ratio <= self.aug_th[0] or fg_ratio >= self.aug_th[1]:\n",
    "      if fg_ratio <= self.aug_th[0]:\n",
    "        k = 2 if fg_ratio <= 0.03 else 3  # whether to crop at 1/2 or 1/3\n",
    "        meta_trans = transform.Compose([transform.FitCrop(k=k)] + self.transform.segtransform[-3:])\n",
    "      else:\n",
    "        scale = 473 / max(support_label.shape) * 0.7\n",
    "        meta_trans = transform.Compose([transform.RandScale(scale=(scale, scale + 0.1), fixed_size=473, padding=self.padding)] +  self.transform.segtransform[-2:])\n",
    "      new_img, new_label = meta_trans(support_image, support_label)\n",
    "      return new_img.unsqueeze(0), new_label.unsqueeze(0)\n",
    "    else:\n",
    "      return None, None\n",
    "\n",
    "  def get_aug_data1(self, fg_ratio, support_image, support_label):  # create two augmented data\n",
    "    scale = 473 / max(support_label.shape)\n",
    "\n",
    "    if fg_ratio <= self.aug_th[0]:  # 0.15\n",
    "      meta_trans1 = transform.Compose([transform.FitCrop(k=2)] + self.transform.segtransform[-3:])\n",
    "      meta_trans2 = transform.Compose([transform.FitCrop(k=3)] + self.transform.segtransform[-3:])\n",
    "    elif self.aug_th[0] < fg_ratio < self.aug_th[1]:\n",
    "      meta_trans1 = transform.Compose([transform.FitCrop(k=3)] + self.transform.segtransform[-3:])\n",
    "      meta_trans2 = transform.Compose([transform.RandScale(scale=(scale * 0.85, scale * 0.85 + 0.1), fixed_size=473, padding=self.padding)] + self.transform.segtransform[-2:])\n",
    "    else:\n",
    "      meta_trans1 = transform.Compose([transform.RandScale(scale=(scale * 0.85, scale * 0.85 + 0.1), fixed_size=473, padding=self.padding)] + self.transform.segtransform[-2:])\n",
    "      meta_trans2 = transform.Compose([transform.RandScale(scale=(scale * 0.85, scale * 0.85 + 0.1), fixed_size=473, padding=self.padding)] + self.transform.segtransform[-2:])\n",
    "    new_img1, new_label1 = meta_trans1(support_image, support_label)\n",
    "    new_img2, new_label2 = meta_trans2(support_image, support_label)\n",
    "\n",
    "    new_imgs = torch.cat([new_img1.unsqueeze(0), new_img2.unsqueeze(0)], dim=0)\n",
    "    new_labels = torch.cat([new_label1.unsqueeze(0), new_label2.unsqueeze(0)], dim=0)\n",
    "    return new_imgs, new_labels\n",
    "\n",
    "  def get_aug_data2(self, fg_ratio, support_image, support_label):   # 最初的 data augmentation\n",
    "    if fg_ratio <= 0.15:\n",
    "      k = 2 if fg_ratio <= 0.05 else 3\n",
    "      meta_trans = transform.Compose([transform.FitCrop(k=k)] + self.transform.segtransform[-3:])\n",
    "    else:\n",
    "      meta_trans = transform.Compose([transform.RandomHorizontalFlip(p=1.0)] + self.transform.segtransform[-3:])\n",
    "    new_img, new_label = meta_trans(support_image, support_label)\n",
    "    return new_img.unsqueeze(0), new_label.unsqueeze(0)\n",
    "\n",
    "  def get_aug_data3(self, fg_ratio, support_image, support_label):    # base data augmentation: resize (with padding)\n",
    "    if fg_ratio <= self.aug_th[0]:\n",
    "      k = 2 if fg_ratio <= 0.03 else 3  # whether to crop at 1/2 or 1/3\n",
    "      trans_crop = transform.FitCrop(k=k, multi=True)\n",
    "      crop_out = trans_crop(support_image, support_label)\n",
    "      meta_trans = transform.Compose(self.transform.segtransform[-3:])\n",
    "\n",
    "      new_img, new_label = meta_trans(crop_out[0], crop_out[1])\n",
    "      if len(crop_out) == 2:\n",
    "        return new_img.unsqueeze(0), new_label.unsqueeze(0)\n",
    "      elif len(crop_out) == 4:\n",
    "        new_img2, new_label2 = meta_trans(crop_out[2], crop_out[3])\n",
    "        return torch.cat([new_img.unsqueeze(0), new_img2.unsqueeze(0)], dim=0), torch.cat([new_label.unsqueeze(0), new_label2.unsqueeze(0)], dim=0)\n",
    "\n",
    "    elif self.aug_th[0] < fg_ratio < self.aug_th[1]:\n",
    "      meta_trans = transform.Compose([transform.ColorJitter(cj_type='b')] + self.transform.segtransform[-3:])\n",
    "    else:\n",
    "      scale = 473 / max(support_label.shape) * 0.7\n",
    "      meta_trans = transform.Compose([transform.RandScale(scale=(scale, scale + 0.1), fixed_size=473, padding=self.padding)] + self.transform.segtransform[-2:])\n",
    "    new_img, new_label = meta_trans(support_image, support_label)\n",
    "    return new_img.unsqueeze(0), new_label.unsqueeze(0)\n",
    "\n",
    "  def get_aug_data4(self, fg_ratio, support_image, support_label, args):\n",
    "    if fg_ratio <= self.aug_th[0]:\n",
    "      k = 2 if fg_ratio <= 0.03 else 3  # whether to crop at 1/2 or 1/3\n",
    "      meta_trans = transform.Compose([transform.FitCrop(k=k)] + self.transform.segtransform[-3:])\n",
    "    elif self.aug_th[0] < fg_ratio < self.aug_th[1]:\n",
    "      meta_trans = transform.Compose([transform.ColorAug(args.get('brightness', 0), args.get('contrast', 0), args.get('saturation', 0), args.get('hue', 0))] + self.transform.segtransform[-3:])\n",
    "    else:\n",
    "      scale = 473 / max(support_label.shape) * 0.8\n",
    "      meta_trans = transform.Compose([transform.RandScale(scale=(scale, scale + 0.1), fixed_size=473, padding=self.padding)] +  self.transform.segtransform[-2:])\n",
    "    new_img, new_label = meta_trans(support_image, support_label)\n",
    "    return new_img.unsqueeze(0), new_label.unsqueeze(0)"
   ]
  },
  {
   "cell_type": "markdown",
   "metadata": {
    "id": "aueeXHKKZxj9"
   },
   "source": [
    "### Train Loader"
   ]
  },
  {
   "cell_type": "code",
   "execution_count": 86,
   "metadata": {
    "id": "hMAZ924iZsnC"
   },
   "outputs": [],
   "source": [
    "def get_train_loader(args, episodic=True, return_path=False):\n",
    "  \"\"\"\n",
    "      Build the train loader. This is a episodic loader.\n",
    "  \"\"\"\n",
    "  assert args.train_split in [0, 1, 2, 3]\n",
    "  padding = [v*255 for v in args.mean] if args.get('padding')=='avg' else None\n",
    "  aug_dic = {\n",
    "    'randscale': transform.RandScale([args.scale_min, args.scale_max]),\n",
    "    'randrotate': transform.RandRotate(\n",
    "      [args.rot_min, args.rot_max],\n",
    "      padding=[0 for x in args.mean],\n",
    "      ignore_label=255\n",
    "    ),\n",
    "    'hor_flip': transform.RandomHorizontalFlip(),\n",
    "    'vert_flip': transform.RandomVerticalFlip(),\n",
    "    'crop': transform.Crop(\n",
    "      [args.image_size, args.image_size], crop_type='rand',\n",
    "      padding=[0 for x in args.mean], ignore_label=255\n",
    "    ),\n",
    "    'resize': transform.Resize(args.image_size),\n",
    "    'resize_np': transform.Resize_np(size=(args.image_size, args.image_size)),\n",
    "    'color_aug': transform.ColorAug(args.get('brightness', 0), args.get('contrast', 0), args.get('saturation', 0), args.get('hue', 0))\n",
    "  }\n",
    "\n",
    "  train_transform = [aug_dic[name] for name in args.augmentations]\n",
    "#   train_transform += [transform.ToTensor(), transform.Normalize(mean=args.mean, std=args.std)]\n",
    "  train_transform  = [transform.ToTensor()]\n",
    "  train_transform = transform.Compose(train_transform)\n",
    "\n",
    "  split_classes = get_split_classes(args)     # 只用了 args.use_split_coco 这个参数， 返回coco和pascal所有4个split, dict of dict\n",
    "  class_list = split_classes[args.train_name][args.train_split]['train']   # list of all meta train class labels\n",
    "\n",
    "  # ====== Build loader ======\n",
    "  if episodic:\n",
    "    train_data = EpisodicData(\n",
    "        mode_train=True, dt_transform=train_transform, class_list=class_list, args=args\n",
    "    )\n",
    "  else:\n",
    "    train_data = StandardData(transform=train_transform, class_list=class_list,\n",
    "                              return_paths=return_path,  data_list_path=args.train_list,\n",
    "                              args=args)\n",
    "\n",
    "  world_size = torch.distributed.get_world_size() if args.distributed else 1\n",
    "  train_sampler = DistributedSampler(train_data) if args.distributed else None\n",
    "  batch_size = int(args.batch_size / world_size) if args.distributed else args.batch_size\n",
    "\n",
    "  train_loader = torch.utils.data.DataLoader(\n",
    "    train_data,\n",
    "    batch_size=batch_size,\n",
    "    shuffle=(train_sampler is None),\n",
    "    num_workers=args.workers,\n",
    "    pin_memory=True,\n",
    "    sampler=train_sampler,\n",
    "    drop_last=True)\n",
    "  return train_loader, train_sampler"
   ]
  },
  {
   "cell_type": "markdown",
   "metadata": {
    "id": "h1bNoqLXahds"
   },
   "source": [
    "## CfgNode"
   ]
  },
  {
   "cell_type": "markdown",
   "metadata": {
    "id": "Ft8EKQ4la-gZ"
   },
   "source": [
    "*import packages*"
   ]
  },
  {
   "cell_type": "code",
   "execution_count": 87,
   "metadata": {
    "colab": {
     "base_uri": "https://localhost:8080/"
    },
    "id": "prAYWQ57amdp",
    "outputId": "a018480e-be05-4057-df3e-406136588faa"
   },
   "outputs": [
    {
     "data": {
      "text/plain": [
       "CfgNode({'train_name': 'pascal', 'test_name': 'default', 'train_split': 0, 'test_split': 'default', 'train_list': 'lists/pascal/train.txt', 'data_root': '/Users/nigel/Documents/Research-Git/Dataset/VOCdevkit/VOC2012', 'val_list': 'lists/pascal/val.txt', 'num_classes_tr': 2, 'num_classes_val': 5, 'use_split_coco': False, 'workers': 0, 'image_size': 473, 'padding_label': 255, 'mean': [0.485, 0.456, 0.406], 'std': [0.229, 0.224, 0.225], 'scale_min': 0.33, 'scale_max': 3.0, 'rot_min': -10, 'rot_max': 10, 'padding': 'avg', 'augmentations': ['resize'], 'meta_aug': 2, 'aug_th': [0.12, 0.25], 'aug_type': 4, 'wt_file': 1, 'att_type': 3, 'ckpt_path': 'checkpoints/', 'batch_size': 1, 'epochs': 8, 'log_freq': 50, 'save_models': False, 'cls_lr': 0.1, 'trans_lr': 0.0015, 'scale_lr': 1.0, 'mixup': False, 'lr_stepsize': 30, 'momentum': 0.9, 'gamma': 0.1, 'nesterov': True, 'weight_decay': 0.0001, 'main_optim': 'SGD', 'scheduler': 'cosine', 'milestones': [40, 70], 'log_iter': 1190, 'adapt_iter': 200, 'use_amp': False, 'arch': 'resnet', 'pretrained': False, 'bins': [1, 2, 3, 6], 'dropout': 0.1, 'm_scale': False, 'layers': 50, 'bottleneck_dim': 512, 'backbone_dim': 2048, 'resume_weights': './pretrained_models/', 'model_dir': 'model_ckpt', 'conv4d': 'red', 'temp': 20.0, 'att_wt': 0.3, 'aux': False, 'inner_loss_type': 'wt_ce', 'loss_type': 'wt_dc', 'loss_shot': 'avg', 'agg': 'cat', 'rmid': 'l34', 'all_lr': 'l', 'red_dim': False, 'wa': True, 'proj_drop': 0.5, 'att_drop': 0.5, 'dist': 'dot', 'cls_type': 'oooo', 'shot': 1, 'random_shot': False, 'episodic': True, 'norm_feat': True, 'batch_size_val': 1, 'manual_seed': 2021, 'ckpt_used': 'best', 'test_num': 1000, 'FB_param_noise': 0, 'smoothing': True, 'n_runs': 1, 'exp_name': 'dot1_wt3_aug0_1125_att3', 'gpus': [0], 'distributed': False})"
      ]
     },
     "execution_count": 87,
     "metadata": {},
     "output_type": "execute_result"
    }
   ],
   "source": [
    "from src.util import load_cfg_from_cfg_file\n",
    "\n",
    "cfg = load_cfg_from_cfg_file('/Users/nigel/Documents/Research-Git/Few_Shot_Seg_CWT/config_files/pascal_aug.yaml')\n",
    "cfg.data_root = '/Users/nigel/Documents/Research-Git/Dataset/VOCdevkit/VOC2012'\n",
    "cfg.distributed = False\n",
    "cfg"
   ]
  },
  {
   "cell_type": "markdown",
   "metadata": {
    "id": "UDVLfGBpttQL"
   },
   "source": [
    "### Get Data"
   ]
  },
  {
   "cell_type": "code",
   "execution_count": 88,
   "metadata": {
    "id": "I2McOODUuLgf"
   },
   "outputs": [],
   "source": [
    "import matplotlib.pyplot as plt"
   ]
  },
  {
   "cell_type": "code",
   "execution_count": 89,
   "metadata": {
    "colab": {
     "base_uri": "https://localhost:8080/"
    },
    "id": "y1aW25U6bsmx",
    "outputId": "4ad987b1-a54d-4b5e-a1d1-0202ece9aa59"
   },
   "outputs": [
    {
     "name": "stdout",
     "output_type": "stream",
     "text": [
      "Processing data for [6, 7, 8, 9, 10, 11, 12, 13, 14, 15, 16, 17, 18, 19, 20]\n"
     ]
    },
    {
     "name": "stderr",
     "output_type": "stream",
     "text": [
      "100%|█████████████████████████████████████| 5953/5953 [00:03<00:00, 1861.31it/s]\n"
     ]
    },
    {
     "name": "stdout",
     "output_type": "stream",
     "text": [
      "Augmenting data using the following setting 0000\n"
     ]
    }
   ],
   "source": [
    "train_loader, train_sampler = get_train_loader(cfg)"
   ]
  },
  {
   "cell_type": "code",
   "execution_count": 90,
   "metadata": {
    "id": "KWDsJ9f1t0wd"
   },
   "outputs": [],
   "source": [
    "iterable_train_loader = iter(train_loader)"
   ]
  },
  {
   "cell_type": "code",
   "execution_count": 91,
   "metadata": {
    "id": "L8QucelGuEu4"
   },
   "outputs": [],
   "source": [
    "qry_img, q_label, spt_imgs, s_label, subcls, spt_info, q_info = iterable_train_loader.next()"
   ]
  },
  {
   "cell_type": "code",
   "execution_count": null,
   "metadata": {},
   "outputs": [],
   "source": []
  },
  {
   "cell_type": "code",
   "execution_count": 93,
   "metadata": {
    "id": "NKZFpKEQuQ64"
   },
   "outputs": [
    {
     "name": "stderr",
     "output_type": "stream",
     "text": [
      "Clipping input data to the valid range for imshow with RGB data ([0..1] for floats or [0..255] for integers).\n"
     ]
    },
    {
     "data": {
      "image/png": "[encoded data removed]",
      "text/plain": [
       "<Figure size 432x288 with 1 Axes>"
      ]
     },
     "metadata": {
      "needs_background": "light"
     },
     "output_type": "display_data"
    }
   ],
   "source": [
    "_, c, h, w = qry_img.shape\n",
    "plt.imshow(qry_img.squeeze(0).view(h, w, c))\n",
    "plt.show()"
   ]
  },
  {
   "cell_type": "code",
   "execution_count": 22,
   "metadata": {},
   "outputs": [
    {
     "name": "stderr",
     "output_type": "stream",
     "text": [
      "Clipping input data to the valid range for imshow with RGB data ([0..1] for floats or [0..255] for integers).\n"
     ]
    },
    {
     "data": {
      "image/png": "[encoded data removed]",
      "text/plain": [
       "<Figure size 432x288 with 1 Axes>"
      ]
     },
     "metadata": {
      "needs_background": "light"
     },
     "output_type": "display_data"
    }
   ],
   "source": [
    "_, c, h, w = spt_imgs[0].shape\n",
    "plt.imshow(spt_imgs[0].squeeze(0).view(2*h, w, c))\n",
    "plt.show()"
   ]
  },
  {
   "cell_type": "code",
   "execution_count": 20,
   "metadata": {},
   "outputs": [
    {
     "data": {
      "text/plain": [
       "torch.Size([2, 3, 473, 473])"
      ]
     },
     "execution_count": 20,
     "metadata": {},
     "output_type": "execute_result"
    }
   ],
   "source": [
    "spt_imgs[0].shape"
   ]
  },
  {
   "cell_type": "code",
   "execution_count": null,
   "metadata": {},
   "outputs": [],
   "source": []
  }
 ],
 "metadata": {
  "accelerator": "GPU",
  "colab": {
   "collapsed_sections": [],
   "name": "ColorJitterVis.ipynb",
   "provenance": []
  },
  "gpuClass": "standard",
  "kernelspec": {
   "display_name": "Python 3 (ipykernel)",
   "language": "python",
   "name": "python3"
  },
  "language_info": {
   "codemirror_mode": {
    "name": "ipython",
    "version": 3
   },
   "file_extension": ".py",
   "mimetype": "text/x-python",
   "name": "python",
   "nbconvert_exporter": "python",
   "pygments_lexer": "ipython3",
   "version": "3.8.8"
  }
 },
 "nbformat": 4,
 "nbformat_minor": 1
}
